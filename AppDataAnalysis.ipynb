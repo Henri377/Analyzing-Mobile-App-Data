{
 "cells": [
  {
   "cell_type": "markdown",
   "source": [
    "# Mobile App Data Analysis Project\n",
    "\n",
    "## Project Overview\n",
    "\n",
    "This project is an opportunity to integrate various skills to solve a real-world problem. You'll step into the role of a data analyst for a company specializing in Android and iOS mobile apps. These apps are distributed through Google Play and the App Store, with revenue primarily generated from in-app advertisements. Understanding the factors influencing user attraction is vital for the company's success.\n",
    "\n",
    "\n",
    "## Dataset\n",
    "\n",
    "As of September 2018, the App Store boasted approximately 2 million iOS apps, while Google Play housed around 2.1 million Android apps.\n",
    "\n",
    "![Number of Apps in Leading App Stores](https://s3.amazonaws.com/dq-content/350/py1m8_statista.png)\n",
    "\n",
    "[Source](https://www.statista.com/statistics/276623/number-of-apps-available-in-leading-app-stores/)\n",
    "\n",
    "You'll work with two datasets:\n",
    "\n",
    "- **Google Play dataset**: Contains data on about 10,000 Android apps from August 2018. Download it [here](googleplaystore.csv).\n",
    "\n",
    "- **App Store dataset**: Includes data on around 7,000 iOS apps from July 2017. Download it [here](AppleStore.csv).\n",
    "\n"
   ],
   "metadata": {
    "collapsed": false
   },
   "id": "54935d428b8368f7"
  },
  {
   "cell_type": "markdown",
   "source": [
    "\n",
    "We'll start by opening and exploring these two data sets. To make them easier to explore, we created a function named \n",
    "explore_data() that you can repeatedly use to print rows in a readable way."
   ],
   "metadata": {
    "collapsed": false
   },
   "id": "cb6e64148c2c2fb7"
  },
  {
   "cell_type": "code",
   "execution_count": 1606,
   "outputs": [],
   "source": [
    "def explore_data(dataset, start, end,rows_and_columns = False):\n",
    "    dataset_slice = dataset[start:end]\n",
    "    for row in dataset_slice:\n",
    "        print(row)\n",
    "        print('\\n')\n",
    "    if rows_and_columns:\n",
    "        print('Number of rows:', len(dataset))\n",
    "        print('Number of columns:',len(dataset[0]))"
   ],
   "metadata": {
    "collapsed": false,
    "ExecuteTime": {
     "end_time": "2024-04-19T18:49:31.569218209Z",
     "start_time": "2024-04-19T18:49:31.460924132Z"
    }
   },
   "id": "7c060ede93cf8d56"
  },
  {
   "cell_type": "markdown",
   "source": [
    "### `explore_data()` Function\n",
    "\n",
    "The `explore_data()` function is designed to explore a dataset by printing rows within a specified slice and optionally showing the number of rows and columns.\n",
    "\n",
    "#### Parameters:\n",
    "- `dataset`: A list of lists representing the dataset.\n",
    "- `start`: An integer representing the starting index of the slice.\n",
    "- `end`: An integer representing the ending index of the slice.\n",
    "- `rows_and_columns`: A Boolean indicating whether to print the number of rows and columns. Defaults to `False`.\n",
    "\n",
    "#### Behavior:\n",
    "1. Slices the dataset using `dataset[start:end]`.\n",
    "2. Loops through the slice, printing each row followed by a new line character (`\\n`) for spacing.\n",
    "3. If `rows_and_columns` is `True`, prints the number of rows and columns.\n",
    "\n",
    "**Note**: If the dataset includes a header row, the function may print an incorrect number of rows (one more than the actual length).\n"
   ],
   "metadata": {
    "collapsed": false
   },
   "id": "6f00618c1b9a595b"
  },
  {
   "cell_type": "markdown",
   "source": [
    "## Opening the Datasets\n",
    "\n",
    "Next we will open the IOS and Google App Store datasets , after that we can explore the first rows of each,\n",
    "using the `explore_data()` function created above.\n",
    "\n",
    "For this the csv module will be used, and a function will be created:\n"
   ],
   "metadata": {
    "collapsed": false
   },
   "id": "7bf05dfb8f701665"
  },
  {
   "cell_type": "code",
   "execution_count": 1607,
   "outputs": [],
   "source": [
    "import csv\n",
    "\n",
    "def open_csv_as_list_of_lists(file_path):\n",
    "    data = []\n",
    "    with open(file_path, 'r', encoding='utf-8') as file:\n",
    "        csv_reader = csv.reader(file)\n",
    "        for row in csv_reader:\n",
    "            data.append(row)\n",
    "    return data\n",
    "\n",
    "app_store_data = open_csv_as_list_of_lists('AppleStore.csv')\n",
    "\n",
    "google_play_data = open_csv_as_list_of_lists('googleplaystore.csv')"
   ],
   "metadata": {
    "collapsed": false,
    "ExecuteTime": {
     "end_time": "2024-04-19T18:49:31.664212754Z",
     "start_time": "2024-04-19T18:49:31.465676741Z"
    }
   },
   "id": "da39e409c730b086"
  },
  {
   "cell_type": "code",
   "execution_count": 1608,
   "outputs": [
    {
     "name": "stdout",
     "output_type": "stream",
     "text": [
      "['id', 'track_name', 'size_bytes', 'currency', 'price', 'rating_count_tot', 'rating_count_ver', 'user_rating', 'user_rating_ver', 'ver', 'cont_rating', 'prime_genre', 'sup_devices.num', 'ipadSc_urls.num', 'lang.num', 'vpp_lic']\n",
      "\n",
      "\n",
      "['284882215', 'Facebook', '389879808', 'USD', '0.0', '2974676', '212', '3.5', '3.5', '95.0', '4+', 'Social Networking', '37', '1', '29', '1']\n",
      "\n",
      "\n",
      "['389801252', 'Instagram', '113954816', 'USD', '0.0', '2161558', '1289', '4.5', '4.0', '10.23', '12+', 'Photo & Video', '37', '0', '29', '1']\n",
      "\n",
      "\n",
      "['529479190', 'Clash of Clans', '116476928', 'USD', '0.0', '2130805', '579', '4.5', '4.5', '9.24.12', '9+', 'Games', '38', '5', '18', '1']\n",
      "\n",
      "\n",
      "['420009108', 'Temple Run', '65921024', 'USD', '0.0', '1724546', '3842', '4.5', '4.0', '1.6.2', '9+', 'Games', '40', '5', '1', '1']\n",
      "\n",
      "\n",
      "Number of rows: 7198\n",
      "Number of columns: 16\n"
     ]
    }
   ],
   "source": [
    "explore_data(app_store_data,0,5,True)\n"
   ],
   "metadata": {
    "collapsed": false,
    "ExecuteTime": {
     "end_time": "2024-04-19T18:49:31.665712387Z",
     "start_time": "2024-04-19T18:49:31.498695749Z"
    }
   },
   "id": "6b40a79c115aeb02"
  },
  {
   "cell_type": "markdown",
   "source": [
    "The column that seem interesting are presented in the header such as: 'track_name' , 'currency', 'user_rating', 'price', 'rating_count_tot','rating_count_ver' and 'prime_genre'. \n",
    "In the table bellow are some explanations about the data: \n",
    "<br> \n",
    "<br>\n",
    "\n",
    "\n",
    "| Column Name       | Description                                     |\n",
    "|-------------------|-------------------------------------------------|\n",
    "| \"id\"              | App ID                                          |\n",
    "| \"track_name\"      | App Name                                        |\n",
    "| \"size_bytes\"      | Size (in Bytes)                                 |\n",
    "| \"currency\"        | Currency Type                                   |\n",
    "| \"price\"           | Price amount                                    |\n",
    "| \"rating_count_tot\"| User Rating counts (for all versions)           |\n",
    "| \"rating_count_ver\"| User Rating counts (for current version)        |\n",
    "| \"user_rating\"     | Average User Rating value (for all versions)    |\n",
    "| \"user_rating_ver\" | Average User Rating value (for current version) |\n",
    "| \"ver\"             | Latest version code                             |\n",
    "| \"cont_rating\"     | Content Rating                                  |\n",
    "| \"prime_genre\"     | Primary Genre                                   |\n",
    "| \"sup_devices.num\" | Number of supporting devices                    |\n",
    "| \"ipadSc_urls.num\" | Number of screenshots showed for display        |\n",
    "| \"lang.num\"        | Number of supported languages                   |\n",
    "| \"vpp_lic\"         | Vpp Device Based Licensing Enabled              |\n",
    "\n"
   ],
   "metadata": {
    "collapsed": false
   },
   "id": "f4f6f529d1f04f14"
  },
  {
   "cell_type": "code",
   "execution_count": 1609,
   "outputs": [
    {
     "name": "stdout",
     "output_type": "stream",
     "text": [
      "['App', 'Category', 'Rating', 'Reviews', 'Size', 'Installs', 'Type', 'Price', 'Content Rating', 'Genres', 'Last Updated', 'Current Ver', 'Android Ver']\n",
      "\n",
      "\n",
      "['Photo Editor & Candy Camera & Grid & ScrapBook', 'ART_AND_DESIGN', '4.1', '159', '19M', '10,000+', 'Free', '0', 'Everyone', 'Art & Design', 'January 7, 2018', '1.0.0', '4.0.3 and up']\n",
      "\n",
      "\n",
      "['Coloring book moana', 'ART_AND_DESIGN', '3.9', '967', '14M', '500,000+', 'Free', '0', 'Everyone', 'Art & Design;Pretend Play', 'January 15, 2018', '2.0.0', '4.0.3 and up']\n",
      "\n",
      "\n",
      "['U Launcher Lite – FREE Live Cool Themes, Hide Apps', 'ART_AND_DESIGN', '4.7', '87510', '8.7M', '5,000,000+', 'Free', '0', 'Everyone', 'Art & Design', 'August 1, 2018', '1.2.4', '4.0.3 and up']\n",
      "\n",
      "\n",
      "['Sketch - Draw & Paint', 'ART_AND_DESIGN', '4.5', '215644', '25M', '50,000,000+', 'Free', '0', 'Teen', 'Art & Design', 'June 8, 2018', 'Varies with device', '4.2 and up']\n",
      "\n",
      "\n",
      "Number of rows: 10842\n",
      "Number of columns: 13\n"
     ]
    }
   ],
   "source": [
    "explore_data(google_play_data,0,5,True)\n"
   ],
   "metadata": {
    "collapsed": false,
    "ExecuteTime": {
     "end_time": "2024-04-19T18:49:31.669374670Z",
     "start_time": "2024-04-19T18:49:31.500584570Z"
    }
   },
   "id": "47d096d6994dd892"
  },
  {
   "cell_type": "markdown",
   "source": [
    "The column that seem interesting are presented in the header such as: 'Category' , 'Reviews', 'Price', 'Current Ver' and 'Rating'.\n",
    "In the table bellow are some explanations about the data:\n",
    "<br>\n",
    "<br>\n",
    "\n",
    "| Column Name   | Description                                                                         |\n",
    "|---------------|-------------------------------------------------------------------------------------|\n",
    "| App           | Application name                                                                    |\n",
    "| Category      | Category the app belongs to                                                         |\n",
    "| Rating        | Overall user rating of the app (as when scraped)                                    |\n",
    "| Reviews       | Number of user reviews for the app (as when scraped)                                 |\n",
    "| Size          | Size of the app (as when scraped)                                                   |\n",
    "| Installs      | Number of user downloads/installs for the app (as when scraped)                      |\n",
    "| Type          | Paid or Free                                                                        |\n",
    "| Price         | Price of the app (as when scraped)                                                   |\n",
    "| Content Rating| Age group the app is targeted at - Children / Mature 21+ / Adult                     |\n",
    "| Genres        | An app can belong to multiple genres (apart from its main category)                   |\n",
    "| Last Updated  | Date when the app was last updated on Play Store (as when scraped)                    |\n",
    "| Current Ver   | Current version of the app available on Play Store (as when scraped)                  |\n",
    "| Android Ver   | Min required Android version (as when scraped)                                       |\n"
   ],
   "metadata": {
    "collapsed": false
   },
   "id": "6f038d6b1297f5a1"
  },
  {
   "cell_type": "markdown",
   "source": [
    "# Deleting Wrong Data\n",
    "\n",
    "In the previous step, we opened the two data sets and explored the data. Before beginning our analysis, we need to make sure the data we analyze is accurate, or the results of our analysis will be wrong. This means that we need to do the following:\n",
    "\n",
    "Detect inaccurate data, and correct or remove it.\n",
    "Detect duplicate data, and remove the duplicates.\n",
    "Recall that at our company, we only build apps that are free to download and install, and we design them for an English-speaking audience. This means that we'll need to do the following:\n",
    "\n",
    "Remove non-English apps like 爱奇艺PPS -《欢乐颂2》电视剧热播.\n",
    "Remove apps that aren't free.\n",
    "\n",
    "Instructions:\n",
    "\n",
    "* The Google Play dataset has a dedicated discussion section, and we can see that one of the [discussions](https://www.kaggle.com/datasets/lava18/google-play-store-apps/discussion/66015) describes an error for a certain row.\n",
    "\n",
    "* Read the discussion, and determine the index of the row.\n",
    "\n",
    "* Print the row at that index to check if it's incorrect. Take into account the user reporting the error might or might have not removed the header row, so the index number might vary.\n",
    "\n",
    "* If the row has an error, remove the row using the del statement. For instance, to remove the row with the index 149 from a dataset data that is stored as a list of lists, you can use the code del data[149].\n",
    "\n",
    "* Make sure you don't run the del statement more than once, otherwise you'll delete more than one row.\n",
    "\n",
    "* Read the discussion section for the App Store dataset, and see if you can find any reports of wrong data."
   ],
   "metadata": {
    "collapsed": false
   },
   "id": "743e212b65920158"
  },
  {
   "cell_type": "code",
   "execution_count": 1610,
   "outputs": [
    {
     "data": {
      "text/plain": "['Life Made WI-Fi Touchscreen Photo Frame',\n '1.9',\n '19',\n '3.0M',\n '1,000+',\n 'Free',\n '0',\n 'Everyone',\n '',\n 'February 11, 2018',\n '1.0.19',\n '4.0 and up']"
     },
     "execution_count": 1610,
     "metadata": {},
     "output_type": "execute_result"
    }
   ],
   "source": [
    "# The header is included that is why the index is 10473\n",
    "\n",
    "google_play_data[10473] "
   ],
   "metadata": {
    "collapsed": false,
    "ExecuteTime": {
     "end_time": "2024-04-19T18:49:31.669527519Z",
     "start_time": "2024-04-19T18:49:31.506105811Z"
    }
   },
   "id": "526c05443c5c82d2"
  },
  {
   "cell_type": "code",
   "execution_count": 1611,
   "outputs": [
    {
     "data": {
      "text/plain": "['osmino Wi-Fi: free WiFi',\n 'TOOLS',\n '4.2',\n '134203',\n '4.1M',\n '10,000,000+',\n 'Free',\n '0',\n 'Everyone',\n 'Tools',\n 'August 7, 2018',\n '6.06.14',\n '4.4 and up']"
     },
     "execution_count": 1611,
     "metadata": {},
     "output_type": "execute_result"
    }
   ],
   "source": [
    "# Run the del command just one time\n",
    "del google_play_data[10473]\n",
    "google_play_data[10473]"
   ],
   "metadata": {
    "collapsed": false,
    "ExecuteTime": {
     "end_time": "2024-04-19T18:49:31.673262927Z",
     "start_time": "2024-04-19T18:49:31.509441222Z"
    }
   },
   "id": "f1a98205b2cd0e07"
  },
  {
   "cell_type": "markdown",
   "source": [
    "# Removing Duplicate Entries: Part One\n",
    "\n",
    "In the previous step, we started the data cleaning process and deleted a row with incorrect data from the Google Play dataset. If you explore the Google Play data set long enough or look at the discussions section, you'll notice some apps have duplicate entries. For instance, Instagram has four entries:\n"
   ],
   "metadata": {
    "collapsed": false
   },
   "id": "531f9f3e7b409bc3"
  },
  {
   "cell_type": "code",
   "execution_count": 1612,
   "outputs": [
    {
     "name": "stdout",
     "output_type": "stream",
     "text": [
      "['Instagram', 'SOCIAL', '4.5', '66577313', 'Varies with device', '1,000,000,000+', 'Free', '0', 'Teen', 'Social', 'July 31, 2018', 'Varies with device', 'Varies with device']\n",
      "['Instagram', 'SOCIAL', '4.5', '66577446', 'Varies with device', '1,000,000,000+', 'Free', '0', 'Teen', 'Social', 'July 31, 2018', 'Varies with device', 'Varies with device']\n",
      "['Instagram', 'SOCIAL', '4.5', '66577313', 'Varies with device', '1,000,000,000+', 'Free', '0', 'Teen', 'Social', 'July 31, 2018', 'Varies with device', 'Varies with device']\n",
      "['Instagram', 'SOCIAL', '4.5', '66509917', 'Varies with device', '1,000,000,000+', 'Free', '0', 'Teen', 'Social', 'July 31, 2018', 'Varies with device', 'Varies with device']\n"
     ]
    }
   ],
   "source": [
    "for app in google_play_data:\n",
    "    name = app[0]\n",
    "    if name == 'Instagram':\n",
    "        print(app)"
   ],
   "metadata": {
    "collapsed": false,
    "ExecuteTime": {
     "end_time": "2024-04-19T18:49:31.674543802Z",
     "start_time": "2024-04-19T18:49:31.509496532Z"
    }
   },
   "id": "6354a06e896448be"
  },
  {
   "cell_type": "markdown",
   "source": [
    "Nex we will see how many duplicate data there are:\n",
    "\n",
    "\n",
    "* Create two lists: one for storing the name of duplicate apps, and one for storing the name of unique apps. <br />\n",
    "* Loop through the android data set (the Google Play data set), and for each iteration, we do the following:\n",
    "  * We saved the app name to a variable named name.\n",
    "  * If name was already in the unique_apps list, we appended name to the duplicate_apps list.\n",
    "  * Else (if name wasn't already in the unique_apps list), we appended name to the unique_apps list."
   ],
   "metadata": {
    "collapsed": false
   },
   "id": "f0f5a21581ee161e"
  },
  {
   "cell_type": "code",
   "execution_count": 1613,
   "outputs": [
    {
     "name": "stdout",
     "output_type": "stream",
     "text": [
      "Number of duplicate apps: 1181\n",
      "\n",
      "\n",
      "Example of duplicate apps ['Quick PDF Scanner + OCR FREE', 'Box', 'Google My Business', 'ZOOM Cloud Meetings', 'join.me - Simple Meetings', 'Box', 'Zenefits', 'Google Ads', 'Google My Business', 'Slack', 'FreshBooks Classic', 'Insightly CRM', 'QuickBooks Accounting: Invoicing & Expenses', 'HipChat - Chat Built for Teams', 'Xero Accounting Software']\n"
     ]
    }
   ],
   "source": [
    "duplicate_names = []\n",
    "duplicate_apps = []\n",
    "unique_names = []\n",
    "unique_apps = []\n",
    "\n",
    "for app in google_play_data:\n",
    "    name = app[0]\n",
    "    if name in unique_names:\n",
    "        duplicate_names.append(name)\n",
    "        duplicate_apps.append(app)\n",
    "    else:\n",
    "        unique_names.append(name)\n",
    "        unique_apps.append(app)\n",
    "print('Number of duplicate apps:', len(duplicate_names))\n",
    "print('\\n')\n",
    "print('Example of duplicate apps', duplicate_names[:15])"
   ],
   "metadata": {
    "collapsed": false,
    "ExecuteTime": {
     "end_time": "2024-04-19T18:49:31.873638629Z",
     "start_time": "2024-04-19T18:49:31.520247070Z"
    }
   },
   "id": "e8b873304da8df0b"
  },
  {
   "cell_type": "markdown",
   "source": [
    "We don't want to count certain apps more than once when we analyze data, so we need to remove the duplicate entries and keep only one entry per app. One thing we could do is remove the duplicate rows randomly, but we could probably find a better way.\n",
    "\n",
    "If you examine the rows we printed for the Instagram app, the main difference happens on the fourth position of each row, which corresponds to the number of reviews. The different numbers show the data was collected at different times."
   ],
   "metadata": {
    "collapsed": false
   },
   "id": "141e32a84cae5684"
  },
  {
   "cell_type": "code",
   "execution_count": 1614,
   "outputs": [
    {
     "name": "stdout",
     "output_type": "stream",
     "text": [
      "Expected length: 9660\n",
      "Actual length: 9660\n",
      "['App', 'Category', 'Rating', 'Reviews', 'Size', 'Installs', 'Type', 'Price', 'Content Rating', 'Genres', 'Last Updated', 'Current Ver', 'Android Ver']\n",
      "\n",
      "\n",
      "['Photo Editor & Candy Camera & Grid & ScrapBook', 'ART_AND_DESIGN', '4.1', '159', '19M', '10,000+', 'Free', '0', 'Everyone', 'Art & Design', 'January 7, 2018', '1.0.0', '4.0.3 and up']\n",
      "\n",
      "\n",
      "['U Launcher Lite – FREE Live Cool Themes, Hide Apps', 'ART_AND_DESIGN', '4.7', '87510', '8.7M', '5,000,000+', 'Free', '0', 'Everyone', 'Art & Design', 'August 1, 2018', '1.2.4', '4.0.3 and up']\n",
      "\n",
      "\n",
      "Number of rows: 9660\n",
      "Number of columns: 13\n"
     ]
    }
   ],
   "source": [
    "highest_ratings = {}\n",
    "\n",
    "for app in google_play_data:\n",
    "    name = app[0]\n",
    "    rating = app[3]\n",
    "    if name not in highest_ratings or rating > highest_ratings[name] :\n",
    "        highest_ratings[name] = rating\n",
    "\n",
    "print('Expected length:', len(google_play_data) - 1181)\n",
    "print('Actual length:', len(highest_ratings))\n",
    "\n",
    "android_clean = []\n",
    "already_added = []\n",
    "\n",
    "for app in google_play_data:\n",
    "    name = app[0]\n",
    "    n_reviews = app[3]\n",
    "\n",
    "    if (highest_ratings[name] == n_reviews) and (name not in already_added):\n",
    "        android_clean.append(app)\n",
    "        already_added.append(name) # make sure this is inside the if block\n",
    "\n",
    "explore_data(android_clean, 0, 3, True)\n"
   ],
   "metadata": {
    "collapsed": false,
    "ExecuteTime": {
     "end_time": "2024-04-19T18:49:32.159414244Z",
     "start_time": "2024-04-19T18:49:31.873570619Z"
    }
   },
   "id": "3a4d0984f19e6db0"
  },
  {
   "cell_type": "markdown",
   "source": [
    "# Removing Non-English Apps\n",
    "\n",
    "In the previous step, we managed to remove the duplicate app entries in the Google Play dataset. We don't need to do the same for the App Store data because there are no duplicates — you can check that for yourself using the id column (not the track_name column).\n",
    "\n",
    "Remember we use English for the apps we develop at our company, and we'd like to analyze only the apps that are designed for an English-speaking audience. However, if we explore the data long enough, we'll find that both datasets have apps with names that suggest they are not designed for an English-speaking audience.\n",
    "\n",
    "We're not interested in keeping these apps, so we'll remove them. One way to do this is to remove each app with a name containing a symbol that isn't commonly used in English text — English text usually includes letters from the English alphabet, numbers composed of digits from 0 to 9, punctuation marks (., !, ?, ;), and other symbols (+, *, /).\n",
    "\n",
    "Each character we use in a string has a corresponding number associated with it. For instance, the corresponding number for character 'a' is 97, character 'A' is 65, and character '爱' is 29,233. We can get the corresponding number of each character using the ord() built-in function.\n",
    "\n",
    "Soo, we are going to write a function that returns if a name have any character tha does not belong to the set of the English\n",
    "characters. Bellow is the function:"
   ],
   "metadata": {
    "collapsed": false
   },
   "id": "60eec92550bc1cd3"
  },
  {
   "cell_type": "code",
   "execution_count": 1615,
   "outputs": [
    {
     "name": "stdout",
     "output_type": "stream",
     "text": [
      "True\n",
      "False\n",
      "False\n"
     ]
    }
   ],
   "source": [
    "def check_if_is_english(word):\n",
    "    for letter in word:\n",
    "        if ord(letter) > 127:\n",
    "            return False\n",
    "    return  True\n",
    "\n",
    "print(check_if_is_english('Instagram'))\n",
    "print(check_if_is_english('Instachat 😜'))\n",
    "print(check_if_is_english('爱奇艺PPS -《欢乐颂2》电视剧热播'))\n"
   ],
   "metadata": {
    "collapsed": false,
    "ExecuteTime": {
     "end_time": "2024-04-19T18:49:32.161321293Z",
     "start_time": "2024-04-19T18:49:32.159980829Z"
    }
   },
   "id": "abd855688c757dee"
  },
  {
   "cell_type": "markdown",
   "source": [
    "If we're going to use the function we've created, we'll lose useful data since many English apps will be incorrectly labeled as non-English. To minimize the impact of data loss, we'll only remove an app if its name has more than three characters with corresponding numbers falling outside the ASCII range. This means all English apps with up to three emoji or other special characters will still be labeled as English. Our filter function is still not perfect, but it should be fairly effective."
   ],
   "metadata": {
    "collapsed": false
   },
   "id": "b88596c4b33c7afe"
  },
  {
   "cell_type": "code",
   "execution_count": 1616,
   "outputs": [
    {
     "name": "stdout",
     "output_type": "stream",
     "text": [
      "True\n",
      "True\n",
      "False\n"
     ]
    }
   ],
   "source": [
    "def new_check_if_is_english(word):\n",
    "    count = 0\n",
    "    for letter in word:\n",
    "        if ord(letter) > 127:\n",
    "            count += 1\n",
    "            if count > 3:\n",
    "                return False\n",
    "    return  True\n",
    "\n",
    "print(new_check_if_is_english('Instagram'))\n",
    "print(new_check_if_is_english('Instachat 爱奇艺'))\n",
    "print(new_check_if_is_english('爱奇艺PPS -《欢乐颂2》电视剧热播'))"
   ],
   "metadata": {
    "collapsed": false,
    "ExecuteTime": {
     "end_time": "2024-04-19T18:49:32.164146966Z",
     "start_time": "2024-04-19T18:49:32.162290518Z"
    }
   },
   "id": "65d39a25acb5d67a"
  },
  {
   "cell_type": "code",
   "execution_count": 1617,
   "outputs": [
    {
     "name": "stdout",
     "output_type": "stream",
     "text": [
      "['id', 'track_name', 'size_bytes', 'currency', 'price', 'rating_count_tot', 'rating_count_ver', 'user_rating', 'user_rating_ver', 'ver', 'cont_rating', 'prime_genre', 'sup_devices.num', 'ipadSc_urls.num', 'lang.num', 'vpp_lic']\n",
      "\n",
      "\n",
      "['284882215', 'Facebook', '389879808', 'USD', '0.0', '2974676', '212', '3.5', '3.5', '95.0', '4+', 'Social Networking', '37', '1', '29', '1']\n",
      "\n",
      "\n",
      "['389801252', 'Instagram', '113954816', 'USD', '0.0', '2161558', '1289', '4.5', '4.0', '10.23', '12+', 'Photo & Video', '37', '0', '29', '1']\n",
      "\n",
      "\n",
      "Number of rows: 6184\n",
      "Number of columns: 16\n",
      "['App', 'Category', 'Rating', 'Reviews', 'Size', 'Installs', 'Type', 'Price', 'Content Rating', 'Genres', 'Last Updated', 'Current Ver', 'Android Ver']\n",
      "\n",
      "\n",
      "['Photo Editor & Candy Camera & Grid & ScrapBook', 'ART_AND_DESIGN', '4.1', '159', '19M', '10,000+', 'Free', '0', 'Everyone', 'Art & Design', 'January 7, 2018', '1.0.0', '4.0.3 and up']\n",
      "\n",
      "\n",
      "['U Launcher Lite – FREE Live Cool Themes, Hide Apps', 'ART_AND_DESIGN', '4.7', '87510', '8.7M', '5,000,000+', 'Free', '0', 'Everyone', 'Art & Design', 'August 1, 2018', '1.2.4', '4.0.3 and up']\n",
      "\n",
      "\n",
      "Number of rows: 9615\n",
      "Number of columns: 13\n"
     ]
    }
   ],
   "source": [
    "new_google_data = []\n",
    "new_apple_data = []\n",
    "\n",
    "for app in android_clean:\n",
    "    name = app[0]\n",
    "    if new_check_if_is_english(name):\n",
    "        new_google_data.append(app)\n",
    "\n",
    "for app in app_store_data:\n",
    "    name = app[1]\n",
    "    if new_check_if_is_english(name):\n",
    "        new_apple_data.append(app)\n",
    "\n",
    "explore_data(new_apple_data,0,3,True)\n",
    "explore_data(new_google_data,0,3,True)"
   ],
   "metadata": {
    "collapsed": false,
    "ExecuteTime": {
     "end_time": "2024-04-19T18:49:32.206113402Z",
     "start_time": "2024-04-19T18:49:32.165068743Z"
    }
   },
   "id": "60259418a73f10aa"
  },
  {
   "cell_type": "markdown",
   "source": [
    "## Isolating the Free Apps\n",
    "\n",
    "So far in the data cleaning process, we've done the following:\n",
    "\n",
    "* Removed inaccurate data\n",
    "* Removed duplicate app entries\n",
    "* Removed non-English apps\n",
    "\n",
    "As we mentioned in the introduction, we only build apps that are free to download and install, and our main source of revenue consists of in-app ads. Our datasets contain both free and non-free apps; we'll need to isolate only the free apps for our analysis.\n",
    "\n",
    "Isolating the free apps will be our last step in the data cleaning process. On the next screen, we're going to start analyzing the data."
   ],
   "metadata": {
    "collapsed": false
   },
   "id": "94acf91d8c58cc3e"
  },
  {
   "cell_type": "code",
   "execution_count": 1618,
   "outputs": [
    {
     "name": "stdout",
     "output_type": "stream",
     "text": [
      "8862\n",
      "3222\n"
     ]
    }
   ],
   "source": [
    "free_google_apps = []\n",
    "for app in new_google_data:\n",
    "    price = app[7]\n",
    "    if price == '0':\n",
    "        free_google_apps.append(app)\n",
    "        \n",
    "print(len(free_google_apps))\n",
    "\n",
    "free_apple_apps = []\n",
    "for app in new_apple_data:\n",
    "    price = app[4]\n",
    "    if price == '0.0':\n",
    "        free_apple_apps.append(app)\n",
    "print(len(free_apple_apps))        "
   ],
   "metadata": {
    "collapsed": false,
    "ExecuteTime": {
     "end_time": "2024-04-19T18:49:32.206232667Z",
     "start_time": "2024-04-19T18:49:32.205560221Z"
    }
   },
   "id": "2590e3e3d78fbbac"
  },
  {
   "cell_type": "markdown",
   "source": [
    "# Most Common Apps by Genre\n",
    "\n",
    "As we mentioned in the introduction, our goal is to determine the kinds of apps that are likely to attract more users because the number of people using our apps affects our revenue.\n",
    "\n",
    "To minimize risks and overhead, our validation strategy for an app idea has three steps:\n",
    "\n",
    "1. Build a minimal Android version of the app, and add it to Google Play.\n",
    "2. If the app has a good response from users, we develop it further.\n",
    "3. If the app is profitable after six months, we build an iOS version of the app and add it to the App Store.\n",
    "\n",
    "Because our end goal is to add the app on both Google Play and the App Store, we need to find app profiles that are successful in both markets. For instance, a profile that works well for both markets might be a productivity app that makes use of gamification.\n",
    "\n",
    "Let's begin the analysis by determining the most common genres for each market. For this, we'll need to build frequency tables for a few columns in our datasets.\n"
   ],
   "metadata": {
    "collapsed": false
   },
   "id": "92c2fe5397bca546"
  },
  {
   "cell_type": "code",
   "execution_count": 1619,
   "outputs": [
    {
     "name": "stdout",
     "output_type": "stream",
     "text": [
      "{'Art & Design': 53, 'Art & Design;Creativity': 6, 'Auto & Vehicles': 82, 'Beauty': 53, 'Books & Reference': 190, 'Business': 407, 'Comics': 54, 'Comics;Creativity': 1, 'Communication': 287, 'Dating': 165, 'Education': 474, 'Education;Creativity': 4, 'Education;Education': 30, 'Education;Pretend Play': 5, 'Education;Brain Games': 3, 'Entertainment': 538, 'Entertainment;Brain Games': 7, 'Entertainment;Creativity': 3, 'Entertainment;Music & Video': 15, 'Events': 63, 'Finance': 328, 'Food & Drink': 110, 'Health & Fitness': 273, 'House & Home': 73, 'Libraries & Demo': 83, 'Lifestyle': 345, 'Lifestyle;Pretend Play': 1, 'Arcade': 164, 'Puzzle': 100, 'Racing': 88, 'Sports': 307, 'Casual': 155, 'Simulation': 181, 'Adventure': 60, 'Trivia': 37, 'Action': 275, 'Word': 23, 'Role Playing': 83, 'Strategy': 81, 'Board': 33, 'Card': 39, 'Music': 18, 'Action;Action & Adventure': 9, 'Casual;Brain Games': 12, 'Educational;Creativity': 3, 'Puzzle;Brain Games': 16, 'Educational;Education': 35, 'Card;Brain Games': 1, 'Casual;Pretend Play': 21, 'Educational;Brain Games': 6, 'Art & Design;Pretend Play': 1, 'Educational;Pretend Play': 8, 'Entertainment;Education': 1, 'Casual;Education': 2, 'Casual;Creativity': 6, 'Casual;Action & Adventure': 12, 'Music;Music & Video': 2, 'Arcade;Pretend Play': 1, 'Adventure;Action & Adventure': 3, 'Role Playing;Action & Adventure': 3, 'Simulation;Pretend Play': 2, 'Puzzle;Creativity': 2, 'Simulation;Action & Adventure': 7, 'Racing;Action & Adventure': 15, 'Sports;Action & Adventure': 2, 'Educational;Action & Adventure': 3, 'Arcade;Action & Adventure': 11, 'Entertainment;Action & Adventure': 3, 'Art & Design;Action & Adventure': 1, 'Puzzle;Action & Adventure': 3, 'Education;Action & Adventure': 3, 'Strategy;Action & Adventure': 1, 'Music & Audio;Music & Video': 1, 'Health & Fitness;Education': 1, 'Board;Brain Games': 8, 'Board;Action & Adventure': 2, 'Casual;Music & Video': 1, 'Education;Music & Video': 3, 'Role Playing;Pretend Play': 4, 'Entertainment;Pretend Play': 2, 'Medical': 312, 'Social': 236, 'Shopping': 199, 'Photography': 261, 'Travel & Local': 206, 'Travel & Local;Action & Adventure': 1, 'Tools': 748, 'Tools;Education': 1, 'Personalization': 294, 'Productivity': 345, 'Parenting': 44, 'Parenting;Music & Video': 6, 'Parenting;Education': 7, 'Parenting;Brain Games': 1, 'Weather': 71, 'Video Players & Editors': 157, 'Video Players & Editors;Music & Video': 2, 'Video Players & Editors;Creativity': 1, 'News & Magazines': 248, 'Maps & Navigation': 124, 'Health & Fitness;Action & Adventure': 1, 'Educational': 33, 'Casino': 38, 'Trivia;Education': 1, 'Lifestyle;Education': 1, 'Card;Action & Adventure': 1, 'Books & Reference;Education': 1, 'Simulation;Education': 1, 'Puzzle;Education': 1, 'Adventure;Education': 1, 'Role Playing;Brain Games': 1, 'Strategy;Education': 1, 'Racing;Pretend Play': 1, 'Communication;Creativity': 1, 'Strategy;Creativity': 1} \n",
      "\n",
      "{'Social Networking': 106, 'Photo & Video': 160, 'Games': 1874, 'Music': 66, 'Reference': 18, 'Health & Fitness': 65, 'Weather': 28, 'Utilities': 81, 'Travel': 40, 'Shopping': 84, 'News': 43, 'Navigation': 6, 'Lifestyle': 51, 'Entertainment': 254, 'Food & Drink': 26, 'Sports': 69, 'Book': 14, 'Finance': 36, 'Education': 118, 'Productivity': 56, 'Business': 17, 'Catalogs': 4, 'Medical': 6} \n",
      "\n",
      "{'ART_AND_DESIGN': 57, 'AUTO_AND_VEHICLES': 82, 'BEAUTY': 53, 'BOOKS_AND_REFERENCE': 190, 'BUSINESS': 407, 'COMICS': 55, 'COMMUNICATION': 287, 'DATING': 165, 'EDUCATION': 104, 'ENTERTAINMENT': 85, 'EVENTS': 63, 'FINANCE': 328, 'FOOD_AND_DRINK': 110, 'HEALTH_AND_FITNESS': 273, 'HOUSE_AND_HOME': 73, 'LIBRARIES_AND_DEMO': 83, 'LIFESTYLE': 346, 'GAME': 859, 'FAMILY': 1678, 'MEDICAL': 312, 'SOCIAL': 236, 'SHOPPING': 199, 'PHOTOGRAPHY': 261, 'SPORTS': 301, 'TRAVEL_AND_LOCAL': 207, 'TOOLS': 749, 'PERSONALIZATION': 294, 'PRODUCTIVITY': 345, 'PARENTING': 58, 'WEATHER': 71, 'VIDEO_PLAYERS': 159, 'NEWS_AND_MAGAZINES': 248, 'MAPS_AND_NAVIGATION': 124} \n"
     ]
    }
   ],
   "source": [
    "genres_apple = {}\n",
    "for app in free_apple_apps:\n",
    "    genre = app[11]\n",
    "    if genre in genres_apple:\n",
    "        genres_apple[genre] += 1\n",
    "    else:\n",
    "        genres_apple[genre] = 1\n",
    "\n",
    "# For Genre Column        \n",
    "genres_google_genre = {}\n",
    "for app in free_google_apps:\n",
    "    genre = app[9]\n",
    "    if genre in genres_google_genre:\n",
    "        genres_google_genre[genre] += 1\n",
    "    else:\n",
    "        genres_google_genre[genre] = 1\n",
    "        \n",
    "#For Category Column\n",
    "\n",
    "google_category = {}\n",
    "for app in free_google_apps:\n",
    "    category = app[1]\n",
    "    if category in google_category:\n",
    "        google_category[category] += 1\n",
    "    else:\n",
    "        google_category[category] = 1\n",
    "\n",
    "print(genres_google_genre,'\\n')\n",
    "print(genres_apple,'\\n')\n",
    "print(google_category,'\\n')"
   ],
   "metadata": {
    "collapsed": false,
    "ExecuteTime": {
     "end_time": "2024-04-19T18:49:32.206291286Z",
     "start_time": "2024-04-19T18:49:32.205633501Z"
    }
   },
   "id": "eea892bf2e722acf"
  },
  {
   "cell_type": "markdown",
   "source": [
    "Now we will sort the genres by ocurrence:"
   ],
   "metadata": {
    "collapsed": false
   },
   "id": "ca2613c176a38d5a"
  },
  {
   "cell_type": "code",
   "execution_count": 1620,
   "outputs": [
    {
     "name": "stdout",
     "output_type": "stream",
     "text": [
      "{'Games': 1874, 'Entertainment': 254, 'Photo & Video': 160, 'Education': 118, 'Social Networking': 106, 'Shopping': 84, 'Utilities': 81, 'Sports': 69, 'Music': 66, 'Health & Fitness': 65, 'Productivity': 56, 'Lifestyle': 51, 'News': 43, 'Travel': 40, 'Finance': 36, 'Weather': 28, 'Food & Drink': 26, 'Reference': 18, 'Business': 17, 'Book': 14, 'Navigation': 6, 'Medical': 6, 'Catalogs': 4} \n",
      "\n",
      "{'Tools': 748, 'Entertainment': 538, 'Education': 474, 'Business': 407, 'Lifestyle': 345, 'Productivity': 345, 'Finance': 328, 'Medical': 312, 'Sports': 307, 'Personalization': 294, 'Communication': 287, 'Action': 275, 'Health & Fitness': 273, 'Photography': 261, 'News & Magazines': 248, 'Social': 236, 'Travel & Local': 206, 'Shopping': 199, 'Books & Reference': 190, 'Simulation': 181, 'Dating': 165, 'Arcade': 164, 'Video Players & Editors': 157, 'Casual': 155, 'Maps & Navigation': 124, 'Food & Drink': 110, 'Puzzle': 100, 'Racing': 88, 'Libraries & Demo': 83, 'Role Playing': 83, 'Auto & Vehicles': 82, 'Strategy': 81, 'House & Home': 73, 'Weather': 71, 'Events': 63, 'Adventure': 60, 'Comics': 54, 'Art & Design': 53, 'Beauty': 53, 'Parenting': 44, 'Card': 39, 'Casino': 38, 'Trivia': 37, 'Educational;Education': 35, 'Board': 33, 'Educational': 33, 'Education;Education': 30, 'Word': 23, 'Casual;Pretend Play': 21, 'Music': 18, 'Puzzle;Brain Games': 16, 'Entertainment;Music & Video': 15, 'Racing;Action & Adventure': 15, 'Casual;Brain Games': 12, 'Casual;Action & Adventure': 12, 'Arcade;Action & Adventure': 11, 'Action;Action & Adventure': 9, 'Educational;Pretend Play': 8, 'Board;Brain Games': 8, 'Entertainment;Brain Games': 7, 'Simulation;Action & Adventure': 7, 'Parenting;Education': 7, 'Art & Design;Creativity': 6, 'Educational;Brain Games': 6, 'Casual;Creativity': 6, 'Parenting;Music & Video': 6, 'Education;Pretend Play': 5, 'Education;Creativity': 4, 'Role Playing;Pretend Play': 4, 'Education;Brain Games': 3, 'Entertainment;Creativity': 3, 'Educational;Creativity': 3, 'Adventure;Action & Adventure': 3, 'Role Playing;Action & Adventure': 3, 'Educational;Action & Adventure': 3, 'Entertainment;Action & Adventure': 3, 'Puzzle;Action & Adventure': 3, 'Education;Action & Adventure': 3, 'Education;Music & Video': 3, 'Casual;Education': 2, 'Music;Music & Video': 2, 'Simulation;Pretend Play': 2, 'Puzzle;Creativity': 2, 'Sports;Action & Adventure': 2, 'Board;Action & Adventure': 2, 'Entertainment;Pretend Play': 2, 'Video Players & Editors;Music & Video': 2, 'Comics;Creativity': 1, 'Lifestyle;Pretend Play': 1, 'Card;Brain Games': 1, 'Art & Design;Pretend Play': 1, 'Entertainment;Education': 1, 'Arcade;Pretend Play': 1, 'Art & Design;Action & Adventure': 1, 'Strategy;Action & Adventure': 1, 'Music & Audio;Music & Video': 1, 'Health & Fitness;Education': 1, 'Casual;Music & Video': 1, 'Travel & Local;Action & Adventure': 1, 'Tools;Education': 1, 'Parenting;Brain Games': 1, 'Video Players & Editors;Creativity': 1, 'Health & Fitness;Action & Adventure': 1, 'Trivia;Education': 1, 'Lifestyle;Education': 1, 'Card;Action & Adventure': 1, 'Books & Reference;Education': 1, 'Simulation;Education': 1, 'Puzzle;Education': 1, 'Adventure;Education': 1, 'Role Playing;Brain Games': 1, 'Strategy;Education': 1, 'Racing;Pretend Play': 1, 'Communication;Creativity': 1, 'Strategy;Creativity': 1} \n",
      "\n",
      "{'FAMILY': 1678, 'GAME': 859, 'TOOLS': 749, 'BUSINESS': 407, 'LIFESTYLE': 346, 'PRODUCTIVITY': 345, 'FINANCE': 328, 'MEDICAL': 312, 'SPORTS': 301, 'PERSONALIZATION': 294, 'COMMUNICATION': 287, 'HEALTH_AND_FITNESS': 273, 'PHOTOGRAPHY': 261, 'NEWS_AND_MAGAZINES': 248, 'SOCIAL': 236, 'TRAVEL_AND_LOCAL': 207, 'SHOPPING': 199, 'BOOKS_AND_REFERENCE': 190, 'DATING': 165, 'VIDEO_PLAYERS': 159, 'MAPS_AND_NAVIGATION': 124, 'FOOD_AND_DRINK': 110, 'EDUCATION': 104, 'ENTERTAINMENT': 85, 'LIBRARIES_AND_DEMO': 83, 'AUTO_AND_VEHICLES': 82, 'HOUSE_AND_HOME': 73, 'WEATHER': 71, 'EVENTS': 63, 'PARENTING': 58, 'ART_AND_DESIGN': 57, 'COMICS': 55, 'BEAUTY': 53}\n"
     ]
    }
   ],
   "source": [
    "# Sort genres_apple by number of occurrences\n",
    "sorted_genres_apple = dict(sorted(genres_apple.items(), key=lambda x: x[1], reverse=True))\n",
    "\n",
    "# Sort genres_google_genre by number of occurrences\n",
    "sorted_genres_google_genre = dict(sorted(genres_google_genre.items(), key=lambda x: x[1], reverse=True))\n",
    "\n",
    "# Sort google_category by number of occurrences\n",
    "sorted_google_category = dict(sorted(google_category.items(), key=lambda x: x[1], reverse=True))\n",
    "\n",
    "print(sorted_genres_apple,'\\n')\n",
    "print(sorted_genres_google_genre,'\\n')\n",
    "print(sorted_google_category)"
   ],
   "metadata": {
    "collapsed": false,
    "ExecuteTime": {
     "end_time": "2024-04-19T18:49:32.206350869Z",
     "start_time": "2024-04-19T18:49:32.205662755Z"
    }
   },
   "id": "88aba7cea4659a8c"
  },
  {
   "cell_type": "markdown",
   "source": [
    "## Apple App Store:\n",
    "### Top Genres:\n",
    "- Games: 1874 occurrences\n",
    "- Entertainment: 254 occurrences\n",
    "- Photo & Video: 160 occurrences\n",
    "- Education: 118 occurrences\n",
    "- Social Networking: 106 occurrences\n",
    "\n",
    "### Observations:\n",
    "- The most common genre is \"Games\", indicating a significant presence of gaming apps on the Apple App Store.\n",
    "- Entertainment and Photo & Video apps also have notable representation.\n",
    "- Educational and Social Networking apps have a relatively lower number of occurrences compared to Games and Entertainment.\n",
    "\n",
    "## Google Play Store:\n",
    "### Top Genres:\n",
    "- Tools: 748 occurrences\n",
    "- Entertainment: 538 occurrences\n",
    "- Education: 474 occurrences\n",
    "- Business: 407 occurrences\n",
    "- Lifestyle: 345 occurrences\n",
    "\n",
    "### Observations:\n",
    "- The most common genre is \"Tools\", suggesting a high demand for utility and productivity apps on the Google Play Store.\n",
    "- Entertainment and Education apps also have a significant presence.\n",
    "- Unlike the Apple App Store, where Games dominate, the Google Play Store has a diverse range of popular genres including Tools, Business, and Lifestyle.\n",
    "\n",
    "### Google Play Store (Categories):\n",
    "#### Top Categories:\n",
    "- Family: 1678 occurrences\n",
    "- Game: 859 occurrences\n",
    "- Tools: 749 occurrences\n",
    "- Business: 407 occurrences\n",
    "- Lifestyle: 346 occurrences\n",
    "\n",
    "#### Observations:\n",
    "- The most common category is \"Family\", which encompasses a wide range of apps suitable for all ages.\n",
    "- Gaming and Tools categories follow closely behind.\n",
    "- Unlike the Apple App Store, where explicit categories like Entertainment and Photo & Video are prominent, the Google Play Store categorizes apps differently, with Family and Game categories being the most prevalent.\n",
    "\n",
    "These insights provide a glimpse into the popularity and distribution of app genres and categories across both the Apple App Store and the Google Play Store.\n"
   ],
   "metadata": {
    "collapsed": false
   },
   "id": "58d6c7f5ad95b3ca"
  },
  {
   "cell_type": "markdown",
   "source": [
    "One way to find out what genres are the most popular (have the most users) is to calculate the average number of installs for each app genre. For the Google Play dataset, we can find this information in the Installs column, but this information is missing for the App Store dataset. As a workaround, we'll take the total number of user ratings as a proxy, which we can find in the `rating_count_tot` column.\n",
    "\n",
    "Let's start with calculating the average number of user ratings per app genre on the App Store. To do that, we'll need to do the following:\n",
    "\n",
    "1. Isolate the apps of each genre\n",
    "2. Add up the user ratings for the apps of that genre\n",
    "3. Divide the sum by the number of apps belonging to that genre (not by the total number of apps)\n",
    "\n",
    "The difference between the Genres and the Category columns is not crystal clear, but one thing we can notice is that the Genres column is much more granular (it has more categories). We're only looking for the bigger picture at the moment, so we'll only work with the Category column moving forward.\n"
   ],
   "metadata": {
    "collapsed": false
   },
   "id": "89a90439a0ca9de3"
  },
  {
   "cell_type": "code",
   "execution_count": 1621,
   "outputs": [
    {
     "name": "stdout",
     "output_type": "stream",
     "text": [
      "Social Networking : 71548.34905660378\n",
      "Photo & Video : 28441.54375\n",
      "Games : 22788.6696905016\n",
      "Music : 57326.530303030304\n",
      "Reference : 74942.11111111111\n",
      "Health & Fitness : 23298.015384615384\n",
      "Weather : 52279.892857142855\n",
      "Utilities : 18684.456790123455\n",
      "Travel : 28243.8\n",
      "Shopping : 26919.690476190477\n",
      "News : 21248.023255813954\n",
      "Navigation : 86090.33333333333\n",
      "Lifestyle : 16485.764705882353\n",
      "Entertainment : 14029.830708661417\n",
      "Food & Drink : 33333.92307692308\n",
      "Sports : 23008.898550724636\n",
      "Book : 39758.5\n",
      "Finance : 31467.944444444445\n",
      "Education : 7003.983050847458\n",
      "Productivity : 21028.410714285714\n",
      "Business : 7491.117647058823\n",
      "Catalogs : 4004.0\n",
      "Medical : 612.0\n"
     ]
    }
   ],
   "source": [
    "\n",
    "for genre in genres_apple:\n",
    "    sum_user_ratings = 0\n",
    "    len_genre = 0\n",
    "    \n",
    "    for app in free_apple_apps:\n",
    "        genre_app = app[11]\n",
    "        if genre_app == genre:\n",
    "            ratings = float(app[5])\n",
    "            sum_user_ratings+= ratings\n",
    "            len_genre += 1\n",
    "    avg_n_ratings = sum_user_ratings / len_genre\n",
    "    print(genre, ':', avg_n_ratings)\n",
    "    "
   ],
   "metadata": {
    "collapsed": false,
    "ExecuteTime": {
     "end_time": "2024-04-19T18:49:32.215151405Z",
     "start_time": "2024-04-19T18:49:32.205728060Z"
    }
   },
   "id": "2b99f02bf8e1f062"
  },
  {
   "cell_type": "markdown",
   "source": [
    "As we can see, apps related to Navigation, Finance, Social Networking and Reference ,have high numbers. We are going to see if the numbers\n",
    "are inflated by any app."
   ],
   "metadata": {
    "collapsed": false
   },
   "id": "38496eb6886c0960"
  },
  {
   "cell_type": "code",
   "execution_count": 1622,
   "outputs": [
    {
     "name": "stdout",
     "output_type": "stream",
     "text": [
      "Waze - GPS Navigation, Maps & Real-time Traffic : 345046\n",
      "Google Maps - Navigation & Transit : 154911\n",
      "Geocaching® : 12811\n",
      "CoPilot GPS – Car Navigation & Offline Maps : 3582\n",
      "ImmobilienScout24: Real Estate Search in Germany : 187\n",
      "Railway Route Search : 5\n"
     ]
    }
   ],
   "source": [
    "for app in free_apple_apps:\n",
    "    if app[-5] == 'Navigation':\n",
    "        print(app[1], ':', app[5]) "
   ],
   "metadata": {
    "collapsed": false,
    "ExecuteTime": {
     "end_time": "2024-04-19T18:49:32.217483565Z",
     "start_time": "2024-04-19T18:49:32.215756914Z"
    }
   },
   "id": "83a79a23bb4349b8"
  },
  {
   "cell_type": "code",
   "execution_count": 1623,
   "outputs": [
    {
     "name": "stdout",
     "output_type": "stream",
     "text": [
      "Pandora - Music & Radio : 1126879\n",
      "Spotify Music : 878563\n",
      "Shazam - Discover music, artists, videos & lyrics : 402925\n",
      "iHeartRadio – Free Music & Radio Stations : 293228\n",
      "SoundCloud - Music & Audio : 135744\n",
      "Magic Piano by Smule : 131695\n",
      "Smule Sing! : 119316\n",
      "TuneIn Radio - MLB NBA Audiobooks Podcasts Music : 110420\n",
      "Amazon Music : 106235\n",
      "SoundHound Song Search & Music Player : 82602\n",
      "Sonos Controller : 48905\n",
      "Bandsintown Concerts : 30845\n",
      "Karaoke - Sing Karaoke, Unlimited Songs! : 28606\n",
      "My Mixtapez Music : 26286\n",
      "Sing Karaoke Songs Unlimited with StarMaker : 26227\n",
      "Ringtones for iPhone & Ringtone Maker : 25403\n",
      "Musi - Unlimited Music For YouTube : 25193\n",
      "AutoRap by Smule : 18202\n",
      "Spinrilla - Mixtapes For Free : 15053\n",
      "Napster - Top Music & Radio : 14268\n",
      "edjing Mix:DJ turntable to remix and scratch music : 13580\n",
      "Free Music - MP3 Streamer & Playlist Manager Pro : 13443\n",
      "Free Piano app by Yokee : 13016\n",
      "Google Play Music : 10118\n",
      "Certified Mixtapes - Hip Hop Albums & Mixtapes : 9975\n",
      "TIDAL : 7398\n",
      "YouTube Music : 7109\n",
      "Nicki Minaj: The Empire : 5196\n",
      "Sounds app - Music And Friends : 5126\n",
      "SongFlip - Free Music Streamer : 5004\n",
      "Simple Radio - Live AM & FM Radio Stations : 4787\n",
      "Deezer - Listen to your Favorite Music & Playlists : 4677\n",
      "Ringtones for iPhone with Ringtone Maker : 4013\n",
      "Bose SoundTouch : 3687\n",
      "Amazon Alexa : 3018\n",
      "DatPiff : 2815\n",
      "Trebel Music - Unlimited Music Downloader : 2570\n",
      "Free Music Play - Mp3 Streamer & Player : 2496\n",
      "Acapella from PicPlayPost : 2487\n",
      "Coach Guitar - Lessons & Easy Tabs For Beginners : 2416\n",
      "Musicloud - MP3 and FLAC Music Player for Cloud Platforms. : 2211\n",
      "Piano - Play Keyboard Music Games with Magic Tiles : 1636\n",
      "Boom: Best Equalizer & Magical Surround Sound : 1375\n",
      "Music Freedom - Unlimited Free MP3 Music Streaming : 1246\n",
      "AmpMe - A Portable Social Party Music Speaker : 1047\n",
      "Medly - Music Maker : 933\n",
      "Bose Connect : 915\n",
      "Music Memos : 909\n",
      "UE BOOM : 612\n",
      "LiveMixtapes : 555\n",
      "NOISE : 355\n",
      "MP3 Music Player & Streamer for Clouds : 329\n",
      "Musical Video Maker - Create Music clips lip sync : 320\n",
      "Cloud Music Player - Downloader & Playlist Manager : 319\n",
      "Remixlive - Remix loops with pads : 288\n",
      "QQ音乐HD : 224\n",
      "Blocs Wave - Make & Record Music : 158\n",
      "PlayGround • Music At Your Fingertips : 150\n",
      "Music and Chill : 135\n",
      "The Singing Machine Mobile Karaoke App : 130\n",
      "radio.de - Der Radioplayer : 64\n",
      "Free Music -  Player & Streamer  for Dropbox, OneDrive & Google Drive : 46\n",
      "NRJ Radio : 38\n",
      "Smart Music: Streaming Videos and Radio : 17\n",
      "BOSS Tuner : 13\n",
      "PetitLyrics : 0\n"
     ]
    }
   ],
   "source": [
    "for app in free_apple_apps:\n",
    "    if app[-5] == 'Music':\n",
    "        print(app[1], ':', app[5]) "
   ],
   "metadata": {
    "collapsed": false,
    "ExecuteTime": {
     "end_time": "2024-04-19T18:49:32.221026918Z",
     "start_time": "2024-04-19T18:49:32.217744824Z"
    }
   },
   "id": "44cbdf5d64e19049"
  },
  {
   "cell_type": "code",
   "execution_count": 1624,
   "outputs": [
    {
     "name": "stdout",
     "output_type": "stream",
     "text": [
      "Facebook : 2974676\n",
      "Pinterest : 1061624\n",
      "Skype for iPhone : 373519\n",
      "Messenger : 351466\n",
      "Tumblr : 334293\n",
      "WhatsApp Messenger : 287589\n",
      "Kik : 260965\n",
      "ooVoo – Free Video Call, Text and Voice : 177501\n",
      "TextNow - Unlimited Text + Calls : 164963\n",
      "Viber Messenger – Text & Call : 164249\n",
      "Followers - Social Analytics For Instagram : 112778\n",
      "MeetMe - Chat and Meet New People : 97072\n",
      "We Heart It - Fashion, wallpapers, quotes, tattoos : 90414\n",
      "InsTrack for Instagram - Analytics Plus More : 85535\n",
      "Tango - Free Video Call, Voice and Chat : 75412\n",
      "LinkedIn : 71856\n",
      "Match™ - #1 Dating App. : 60659\n",
      "Skype for iPad : 60163\n",
      "POF - Best Dating App for Conversations : 52642\n",
      "Timehop : 49510\n",
      "Find My Family, Friends & iPhone - Life360 Locator : 43877\n",
      "Whisper - Share, Express, Meet : 39819\n",
      "Hangouts : 36404\n",
      "LINE PLAY - Your Avatar World : 34677\n",
      "WeChat : 34584\n",
      "Badoo - Meet New People, Chat, Socialize. : 34428\n",
      "Followers + for Instagram - Follower Analytics : 28633\n",
      "GroupMe : 28260\n",
      "Marco Polo Video Walkie Talkie : 27662\n",
      "Miitomo : 23965\n",
      "SimSimi : 23530\n",
      "Grindr - Gay and same sex guys chat, meet and date : 23201\n",
      "Wishbone - Compare Anything : 20649\n",
      "imo video calls and chat : 18841\n",
      "After School - Funny Anonymous School News : 18482\n",
      "Quick Reposter - Repost, Regram and Reshare Photos : 17694\n",
      "Weibo HD : 16772\n",
      "Repost for Instagram : 15185\n",
      "Live.me – Live Video Chat & Make Friends Nearby : 14724\n",
      "Nextdoor : 14402\n",
      "Followers Analytics for Instagram - InstaReport : 13914\n",
      "YouNow: Live Stream Video Chat : 12079\n",
      "FollowMeter for Instagram - Followers Tracking : 11976\n",
      "LINE : 11437\n",
      "eHarmony™ Dating App - Meet Singles : 11124\n",
      "Discord - Chat for Gamers : 9152\n",
      "QQ : 9109\n",
      "Telegram Messenger : 7573\n",
      "Weibo : 7265\n",
      "Periscope - Live Video Streaming Around the World : 6062\n",
      "Chat for Whatsapp - iPad Version : 5060\n",
      "QQ HD : 5058\n",
      "Followers Analysis Tool For Instagram App Free : 4253\n",
      "live.ly - live video streaming : 4145\n",
      "Houseparty - Group Video Chat : 3991\n",
      "SOMA Messenger : 3232\n",
      "Monkey : 3060\n",
      "Down To Lunch : 2535\n",
      "Flinch - Video Chat Staring Contest : 2134\n",
      "Highrise - Your Avatar Community : 2011\n",
      "LOVOO - Dating Chat : 1985\n",
      "PlayStation®Messages : 1918\n",
      "BOO! - Video chat camera with filters & stickers : 1805\n",
      "Qzone : 1649\n",
      "Chatous - Chat with new people : 1609\n",
      "Kiwi - Q&A : 1538\n",
      "GhostCodes - a discovery app for Snapchat : 1313\n",
      "Jodel : 1193\n",
      "FireChat : 1037\n",
      "Google Duo - simple video calling : 1033\n",
      "Fiesta by Tango - Chat & Meet New People : 885\n",
      "Google Allo — smart messaging : 862\n",
      "Peach — share vividly : 727\n",
      "Hey! VINA - Where Women Meet New Friends : 719\n",
      "Battlefield™ Companion : 689\n",
      "All Devices for WhatsApp - Messenger for iPad : 682\n",
      "Chat for Pokemon Go - GoChat : 500\n",
      "IAmNaughty – Dating App to Meet New People Online : 463\n",
      "Qzone HD : 458\n",
      "Zenly - Locate your friends in realtime : 427\n",
      "League of Legends Friends : 420\n",
      "豆瓣 : 407\n",
      "Candid - Speak Your Mind Freely : 398\n",
      "知乎 : 397\n",
      "Selfeo : 366\n",
      "Fake-A-Location Free ™ : 354\n",
      "Popcorn Buzz - Free Group Calls : 281\n",
      "Fam — Group video calling for iMessage : 279\n",
      "QQ International : 274\n",
      "Ameba : 269\n",
      "SoundCloud Pulse: for creators : 240\n",
      "Tantan : 235\n",
      "Cougar Dating & Life Style App for Mature Women : 213\n",
      "Rawr Messenger - Dab your chat : 180\n",
      "WhenToPost: Best Time to Post Photos for Instagram : 158\n",
      "Inke—Broadcast an amazing life : 147\n",
      "Mustknow - anonymous video Q&A : 53\n",
      "CTFxCmoji : 39\n",
      "Lobi : 36\n",
      "Chain: Collaborate On MyVideo Story/Group Video : 35\n",
      "botman - Real time video chat : 7\n",
      "BestieBox : 0\n",
      "MATCH ON LINE chat : 0\n",
      "niconico ch : 0\n",
      "LINE BLOG : 0\n",
      "bit-tube - Live Stream Video Chat : 0\n"
     ]
    }
   ],
   "source": [
    "for app in free_apple_apps:\n",
    "    if app[-5] == 'Social Networking':\n",
    "        print(app[1], ':', app[5]) "
   ],
   "metadata": {
    "collapsed": false,
    "ExecuteTime": {
     "end_time": "2024-04-19T18:49:32.225013830Z",
     "start_time": "2024-04-19T18:49:32.220576544Z"
    }
   },
   "id": "c3248ff1980ace8e"
  },
  {
   "cell_type": "markdown",
   "source": [
    "Our aim is to find popular genres, but navigation, social networking or music apps might seem more popular than they really are. The average number of ratings seem to be skewed by very few apps which have hundreds of thousands of user ratings, while the other apps may struggle to get past the 10,000 threshold. We could get a better picture by removing these extremely popular apps for each genre and then rework the averages, but we'll leave this level of detail for later."
   ],
   "metadata": {
    "collapsed": false
   },
   "id": "4949dc5c3ce098bd"
  },
  {
   "cell_type": "code",
   "execution_count": 1625,
   "outputs": [
    {
     "name": "stdout",
     "output_type": "stream",
     "text": [
      "Bible : 985920\n",
      "Dictionary.com Dictionary & Thesaurus : 200047\n",
      "Dictionary.com Dictionary & Thesaurus for iPad : 54175\n",
      "Google Translate : 26786\n",
      "Muslim Pro: Ramadan 2017 Prayer Times, Azan, Quran : 18418\n",
      "New Furniture Mods - Pocket Wiki & Game Tools for Minecraft PC Edition : 17588\n",
      "Merriam-Webster Dictionary : 16849\n",
      "Night Sky : 12122\n",
      "City Maps for Minecraft PE - The Best Maps for Minecraft Pocket Edition (MCPE) : 8535\n",
      "LUCKY BLOCK MOD ™ for Minecraft PC Edition - The Best Pocket Wiki & Mods Installer Tools : 4693\n",
      "GUNS MODS for Minecraft PC Edition - Mods Tools : 1497\n",
      "Guides for Pokémon GO - Pokemon GO News and Cheats : 826\n",
      "WWDC : 762\n",
      "Horror Maps for Minecraft PE - Download The Scariest Maps for Minecraft Pocket Edition (MCPE) Free : 718\n",
      "VPN Express : 14\n",
      "Real Bike Traffic Rider Virtual Reality Glasses : 8\n",
      "教えて!goo : 0\n",
      "Jishokun-Japanese English Dictionary & Translator : 0\n"
     ]
    }
   ],
   "source": [
    "for app in free_apple_apps:\n",
    "    if app[-5] == 'Reference':\n",
    "        print(app[1], ':', app[5]) "
   ],
   "metadata": {
    "collapsed": false,
    "ExecuteTime": {
     "end_time": "2024-04-19T18:49:32.298007577Z",
     "start_time": "2024-04-19T18:49:32.225103354Z"
    }
   },
   "id": "715b958f54269697"
  },
  {
   "cell_type": "markdown",
   "source": [
    "The popularity of the Reference category on app stores is largely driven by religious books. However, there's an opportunity to create an app that not only attracts users but also keeps them engaged for longer periods. By integrating elements of music, literature, and religion, we can tap into a growing demand for multimedia content. One idea is to develop an app that offers a diverse range of religious audiobooks and videos, providing users with an immersive and enriching experience. \n",
    "\n",
    "Additionally, incorporating features such as personalized recommendations and interactive forums can further enhance user engagement. By capitalizing on the intersection of music, literature, and religion, there's a high probability of generating profit in this untapped market."
   ],
   "metadata": {
    "collapsed": false
   },
   "id": "2a9bb61d89fcf94b"
  },
  {
   "cell_type": "markdown",
   "source": [
    "Expanding on the provided insight about the popularity of the Reference category on app stores being primarily related to religious books, we can explore opportunities to capitalize on this trend by creating an app that integrates music, books, and religion. Here are some ideas and insights:\n",
    "\n",
    "1. Integrating Different Media Formats:\n",
    "Audiobooks and Videos: Develop an app that offers a diverse range of religious content, including audiobooks and videos of religious teachings, sermons, and discussions. This caters to users who prefer audio or visual formats over traditional text-based content.\n",
    "2. Enhancing User Engagement:\n",
    "Interactive Features: Implement interactive features such as quizzes, polls, and discussion forums to encourage user engagement and foster community interaction among users with similar religious interests.\n",
    "Personalized Recommendations: Utilize algorithms to provide personalized recommendations based on users' religious preferences, reading habits, and listening history, enhancing user satisfaction and retention.\n",
    "3. Music Integration:\n",
    "Religious Music Streaming: Integrate a curated library of religious music, hymns, chants, and devotional songs into the app, allowing users to listen to their favorite religious music seamlessly.\n",
    "Music for Meditation: Offer playlists specifically curated for meditation, prayer, or spiritual reflection, providing users with a serene and calming audio environment conducive to religious practices.\n",
    "4. Social Features:\n",
    "Community Building: Facilitate connections among users through social features such as user profiles, messaging, and group discussions, fostering a supportive and inclusive religious community within the app.\n",
    "User-Generated Content: Allow users to contribute their own content, such as testimonials, personal reflections, and religious artwork, fostering a sense of ownership and belonging within the app community."
   ],
   "metadata": {
    "collapsed": false
   },
   "id": "3f60270a9e21ea1c"
  },
  {
   "cell_type": "markdown",
   "source": [
    "For the Google Play market, we actually have data about the number of installs, so we should be able to get a clearer picture about genre popularity. However, the install numbers don't seem precise enough — we can see that most values are open-ended (100+, 1,000+, 5,000+, etc.)\n",
    "\n",
    "One problem with this data is that is not precise. For instance, we don't know whether an app with 100,000+ installs has 100,000 installs, 200,000, or 350,000. However, we don't need very precise data for our purposes — we only want to get an idea which app genres attract the most users, and we don't need perfect precision with respect to the number of users.\n",
    "\n",
    "We're going to leave the numbers as they are, which means that we'll consider that an app with 100,000+ installs has 100,000 installs, and an app with 1,000,000+ installs has 1,000,000 installs, and so on.\n",
    "\n",
    "To perform computations, however, we'll need to convert each install number to float — this means that we need to remove the commas and the plus characters, otherwise the conversion will fail and raise an error. We'll do this directly in the loop below, where we also compute the average number of installs for each genre (category)."
   ],
   "metadata": {
    "collapsed": false
   },
   "id": "7cdc0c4acc4af319"
  },
  {
   "cell_type": "code",
   "execution_count": 1626,
   "outputs": [
    {
     "name": "stdout",
     "output_type": "stream",
     "text": [
      "ART_AND_DESIGN : 1986335.0877192982\n",
      "AUTO_AND_VEHICLES : 647317.8170731707\n",
      "BEAUTY : 513151.88679245283\n",
      "BOOKS_AND_REFERENCE : 8767811.894736841\n",
      "BUSINESS : 1712290.1474201474\n",
      "COMICS : 817657.2727272727\n",
      "COMMUNICATION : 38456119.167247385\n",
      "DATING : 854028.8303030303\n",
      "EDUCATION : 1820673.076923077\n",
      "ENTERTAINMENT : 11640705.88235294\n",
      "EVENTS : 253542.22222222222\n",
      "FINANCE : 1387692.475609756\n",
      "FOOD_AND_DRINK : 1924897.7363636363\n",
      "HEALTH_AND_FITNESS : 4188821.9853479853\n",
      "HOUSE_AND_HOME : 1331540.5616438356\n",
      "LIBRARIES_AND_DEMO : 638503.734939759\n",
      "LIFESTYLE : 1437816.2687861272\n",
      "GAME : 15560965.599534342\n",
      "FAMILY : 3694276.334922527\n",
      "MEDICAL : 120616.48717948717\n",
      "SOCIAL : 23253652.127118643\n",
      "SHOPPING : 7036877.311557789\n",
      "PHOTOGRAPHY : 17805627.643678162\n",
      "SPORTS : 3638640.1428571427\n",
      "TRAVEL_AND_LOCAL : 13984077.710144928\n",
      "TOOLS : 10682301.033377837\n",
      "PERSONALIZATION : 5201482.6122448975\n",
      "PRODUCTIVITY : 16787331.344927534\n",
      "PARENTING : 542603.6206896552\n",
      "WEATHER : 5074486.197183099\n",
      "VIDEO_PLAYERS : 24727872.452830188\n",
      "NEWS_AND_MAGAZINES : 9549178.467741935\n",
      "MAPS_AND_NAVIGATION : 4056941.7741935486\n"
     ]
    }
   ],
   "source": [
    "for category in google_category:\n",
    "    total = 0\n",
    "    len_category = 0\n",
    "    for app in free_google_apps:\n",
    "        category_app = app[1]\n",
    "        if category_app == category:\n",
    "            n_installs = app[5]\n",
    "            n_installs = n_installs.replace(',', '')\n",
    "            n_installs = n_installs.replace('+', '')\n",
    "            total += float(n_installs)\n",
    "            len_category += 1\n",
    "    avg_n_installs = total / len_category\n",
    "    print(category, ':', avg_n_installs)"
   ],
   "metadata": {
    "collapsed": false,
    "ExecuteTime": {
     "end_time": "2024-04-19T18:49:32.303984806Z",
     "start_time": "2024-04-19T18:49:32.265576636Z"
    }
   },
   "id": "c618b8737c065933"
  },
  {
   "cell_type": "markdown",
   "source": [
    "Based on the list above the top 5 categories are:\n",
    "\n",
    "COMMUNICATION: 38,456,119.17\n",
    "VIDEO_PLAYERS: 24,727,872.45\n",
    "SOCIAL: 23,253,652.13\n",
    "PHOTOGRAPHY: 17,805,627.64\n",
    "PRODUCTIVITY: 16,787,331.34\n",
    "\n",
    "Let's see if there any inflation in this numbers, such as an app tha have most of the downloads in the category:"
   ],
   "metadata": {
    "collapsed": false
   },
   "id": "a7a808f40b99e7e9"
  },
  {
   "cell_type": "code",
   "execution_count": 1627,
   "outputs": [
    {
     "name": "stdout",
     "output_type": "stream",
     "text": [
      "WhatsApp Messenger : 1,000,000,000+\n",
      "imo beta free calls and text : 100,000,000+\n",
      "Android Messages : 100,000,000+\n",
      "Google Duo - High Quality Video Calls : 500,000,000+\n",
      "Messenger – Text and Video Chat for Free : 1,000,000,000+\n",
      "imo free video calls and chat : 500,000,000+\n",
      "Skype - free IM & video calls : 1,000,000,000+\n",
      "Who : 100,000,000+\n",
      "GO SMS Pro - Messenger, Free Themes, Emoji : 100,000,000+\n",
      "LINE: Free Calls & Messages : 500,000,000+\n",
      "Google Chrome: Fast & Secure : 1,000,000,000+\n",
      "Firefox Browser fast & private : 100,000,000+\n",
      "UC Browser - Fast Download Private & Secure : 500,000,000+\n",
      "Gmail : 1,000,000,000+\n",
      "Hangouts : 1,000,000,000+\n",
      "Messenger Lite: Free Calls & Messages : 100,000,000+\n",
      "Kik : 100,000,000+\n",
      "KakaoTalk: Free Calls & Text : 100,000,000+\n",
      "Opera Mini - fast web browser : 100,000,000+\n",
      "Opera Browser: Fast and Secure : 100,000,000+\n",
      "Telegram : 100,000,000+\n",
      "Truecaller: Caller ID, SMS spam blocking & Dialer : 100,000,000+\n",
      "UC Browser Mini -Tiny Fast Private & Secure : 100,000,000+\n",
      "Viber Messenger : 500,000,000+\n",
      "WeChat : 100,000,000+\n",
      "Yahoo Mail – Stay Organized : 100,000,000+\n",
      "BBM - Free Calls & Messages : 100,000,000+\n"
     ]
    }
   ],
   "source": [
    "for app in free_google_apps:\n",
    "    if app[1] == 'COMMUNICATION' and (app[5] == '1,000,000,000+'\n",
    "                                      or app[5] == '500,000,000+'\n",
    "                                      or app[5] == '100,000,000+'):\n",
    "        print(app[0], ':', app[5])"
   ],
   "metadata": {
    "collapsed": false,
    "ExecuteTime": {
     "end_time": "2024-04-19T18:49:32.304094383Z",
     "start_time": "2024-04-19T18:49:32.265650795Z"
    }
   },
   "id": "f856402eae770752"
  },
  {
   "cell_type": "code",
   "execution_count": 1628,
   "outputs": [
    {
     "name": "stdout",
     "output_type": "stream",
     "text": [
      "YouTube : 1,000,000,000+\n",
      "Motorola Gallery : 100,000,000+\n",
      "VLC for Android : 100,000,000+\n",
      "Google Play Movies & TV : 1,000,000,000+\n",
      "MX Player : 500,000,000+\n",
      "Dubsmash : 100,000,000+\n",
      "VivaVideo - Video Editor & Photo Movie : 100,000,000+\n",
      "VideoShow-Video Editor, Video Maker, Beauty Camera : 100,000,000+\n",
      "Motorola FM Radio : 100,000,000+\n"
     ]
    }
   ],
   "source": [
    "for app in free_google_apps:\n",
    "    if app[1] == 'VIDEO_PLAYERS' and (app[5] == '1,000,000,000+'\n",
    "                                      or app[5] == '500,000,000+'\n",
    "                                      or app[5] == '100,000,000+'):\n",
    "        print(app[0], ':', app[5])"
   ],
   "metadata": {
    "collapsed": false,
    "ExecuteTime": {
     "end_time": "2024-04-19T18:49:32.304147920Z",
     "start_time": "2024-04-19T18:49:32.265691677Z"
    }
   },
   "id": "97a1bc94ee4f19f9"
  },
  {
   "cell_type": "code",
   "execution_count": 1629,
   "outputs": [
    {
     "name": "stdout",
     "output_type": "stream",
     "text": [
      "Facebook : 1,000,000,000+\n",
      "Facebook Lite : 500,000,000+\n",
      "Tumblr : 100,000,000+\n",
      "Pinterest : 100,000,000+\n",
      "Google+ : 1,000,000,000+\n",
      "Badoo - Free Chat & Dating App : 100,000,000+\n",
      "Tango - Live Video Broadcast : 100,000,000+\n",
      "Instagram : 1,000,000,000+\n",
      "Snapchat : 500,000,000+\n",
      "LinkedIn : 100,000,000+\n",
      "Tik Tok - including musical.ly : 100,000,000+\n",
      "BIGO LIVE - Live Stream : 100,000,000+\n",
      "VK : 100,000,000+\n"
     ]
    }
   ],
   "source": [
    "for app in free_google_apps:\n",
    "    if app[1] == 'SOCIAL' and (app[5] == '1,000,000,000+'\n",
    "                                      or app[5] == '500,000,000+'\n",
    "                                      or app[5] == '100,000,000+'):\n",
    "        print(app[0], ':', app[5])"
   ],
   "metadata": {
    "collapsed": false,
    "ExecuteTime": {
     "end_time": "2024-04-19T18:49:32.304284592Z",
     "start_time": "2024-04-19T18:49:32.265743853Z"
    }
   },
   "id": "bed8c23c56b81630"
  },
  {
   "cell_type": "code",
   "execution_count": 1630,
   "outputs": [
    {
     "name": "stdout",
     "output_type": "stream",
     "text": [
      "B612 - Beauty & Filter Camera : 100,000,000+\n",
      "YouCam Makeup - Magic Selfie Makeovers : 100,000,000+\n",
      "Sweet Selfie - selfie camera, beauty cam, photo edit : 100,000,000+\n",
      "Google Photos : 1,000,000,000+\n",
      "Retrica : 100,000,000+\n",
      "Photo Editor Pro : 100,000,000+\n",
      "BeautyPlus - Easy Photo Editor & Selfie Camera : 100,000,000+\n",
      "PicsArt Photo Studio: Collage Maker & Pic Editor : 100,000,000+\n",
      "Photo Collage Editor : 100,000,000+\n",
      "Z Camera - Photo Editor, Beauty Selfie, Collage : 100,000,000+\n",
      "PhotoGrid: Video & Pic Collage Maker, Photo Editor : 100,000,000+\n",
      "Candy Camera - selfie, beauty camera, photo editor : 100,000,000+\n",
      "YouCam Perfect - Selfie Photo Editor : 100,000,000+\n",
      "Camera360: Selfie Photo Editor with Funny Sticker : 100,000,000+\n",
      "S Photo Editor - Collage Maker , Photo Collage : 100,000,000+\n",
      "AR effect : 100,000,000+\n",
      "Cymera Camera- Photo Editor, Filter,Collage,Layout : 100,000,000+\n",
      "LINE Camera - Photo editor : 100,000,000+\n",
      "Photo Editor Collage Maker Pro : 100,000,000+\n"
     ]
    }
   ],
   "source": [
    "for app in free_google_apps:\n",
    "    if app[1] == 'PHOTOGRAPHY' and (app[5] == '1,000,000,000+'\n",
    "                               or app[5] == '500,000,000+'\n",
    "                               or app[5] == '100,000,000+'):\n",
    "        print(app[0], ':', app[5])"
   ],
   "metadata": {
    "collapsed": false,
    "ExecuteTime": {
     "end_time": "2024-04-19T18:49:32.304407931Z",
     "start_time": "2024-04-19T18:49:32.269607578Z"
    }
   },
   "id": "ffec83875353e047"
  },
  {
   "cell_type": "code",
   "execution_count": 1631,
   "outputs": [
    {
     "name": "stdout",
     "output_type": "stream",
     "text": [
      "Microsoft Word : 500,000,000+\n",
      "Microsoft Outlook : 100,000,000+\n",
      "Microsoft OneDrive : 100,000,000+\n",
      "Microsoft OneNote : 100,000,000+\n",
      "Google Keep : 100,000,000+\n",
      "ES File Explorer File Manager : 100,000,000+\n",
      "Dropbox : 500,000,000+\n",
      "Google Docs : 100,000,000+\n",
      "Microsoft PowerPoint : 100,000,000+\n",
      "Samsung Notes : 100,000,000+\n",
      "SwiftKey Keyboard : 100,000,000+\n",
      "Google Drive : 1,000,000,000+\n",
      "Adobe Acrobat Reader : 100,000,000+\n",
      "Google Sheets : 100,000,000+\n",
      "Microsoft Excel : 100,000,000+\n",
      "WPS Office - Word, Docs, PDF, Note, Slide & Sheet : 100,000,000+\n",
      "Google Slides : 100,000,000+\n",
      "ColorNote Notepad Notes : 100,000,000+\n",
      "Evernote – Organizer, Planner for Notes & Memos : 100,000,000+\n",
      "Google Calendar : 500,000,000+\n",
      "Cloud Print : 500,000,000+\n",
      "CamScanner - Phone PDF Creator : 100,000,000+\n"
     ]
    }
   ],
   "source": [
    "for app in free_google_apps:\n",
    "    if app[1] == 'PRODUCTIVITY' and (app[5] == '1,000,000,000+'\n",
    "                               or app[5] == '500,000,000+'\n",
    "                               or app[5] == '100,000,000+'):\n",
    "        print(app[0], ':', app[5])"
   ],
   "metadata": {
    "collapsed": false,
    "ExecuteTime": {
     "end_time": "2024-04-19T18:49:32.357466958Z",
     "start_time": "2024-04-19T18:49:32.273609755Z"
    }
   },
   "id": "a336e3085a8f90f4"
  },
  {
   "cell_type": "markdown",
   "source": [
    "We see a pattern for the video players category. The market is dominated by apps like Youtube, Google Play Movies & TV, or MX Player. The pattern is repeated for social apps (where we have giants like Facebook, Instagram, Google+, etc.), photography apps (Google Photos and other popular photo editors), or productivity apps (Microsoft Word, Dropbox, Google Calendar, Evernote, etc.).\n",
    "\n",
    "Again, the main concern is that these app genres might seem more popular than they really are. Moreover, these niches seem to be dominated by a few giants who are hard to compete against.\n",
    "\n",
    "The game genre seems pretty popular, but previously we found out this part of the market seems a bit saturated, so we'd like to come up with a different app recommendation if possible.\n",
    "\n",
    "The books and reference genre looks fairly popular as well, with an average number of installs of 8,767,811. It's interesting to explore this in more depth, since we found this genre has some potential to work well on the App Store, and our aim is to recommend an app genre that shows potential for being profitable on both the App Store and Google Play."
   ],
   "metadata": {
    "collapsed": false
   },
   "id": "6e6c3a7c6e2e51ad"
  },
  {
   "cell_type": "code",
   "execution_count": 1632,
   "outputs": [
    {
     "name": "stdout",
     "output_type": "stream",
     "text": [
      "Wikipedia : 10,000,000+\n",
      "Cool Reader : 10,000,000+\n",
      "Book store : 1,000,000+\n",
      "FBReader: Favorite Book Reader : 10,000,000+\n",
      "Free Books - Spirit Fanfiction and Stories : 1,000,000+\n",
      "AlReader -any text book reader : 5,000,000+\n",
      "FamilySearch Tree : 1,000,000+\n",
      "Cloud of Books : 1,000,000+\n",
      "ReadEra – free ebook reader : 1,000,000+\n",
      "Ebook Reader : 5,000,000+\n",
      "Read books online : 5,000,000+\n",
      "eBoox: book reader fb2 epub zip : 1,000,000+\n",
      "All Maths Formulas : 1,000,000+\n",
      "Ancestry : 5,000,000+\n",
      "HTC Help : 10,000,000+\n",
      "Moon+ Reader : 10,000,000+\n",
      "English-Myanmar Dictionary : 1,000,000+\n",
      "Golden Dictionary (EN-AR) : 1,000,000+\n",
      "All Language Translator Free : 1,000,000+\n",
      "Aldiko Book Reader : 10,000,000+\n",
      "Dictionary - WordWeb : 5,000,000+\n",
      "50000 Free eBooks & Free AudioBooks : 5,000,000+\n",
      "Al-Quran (Free) : 10,000,000+\n",
      "Al Quran Indonesia : 10,000,000+\n",
      "Al'Quran Bahasa Indonesia : 10,000,000+\n",
      "Al Quran Al karim : 1,000,000+\n",
      "Al Quran : EAlim - Translations & MP3 Offline : 5,000,000+\n",
      "Koran Read &MP3 30 Juz Offline : 1,000,000+\n",
      "Hafizi Quran 15 lines per page : 1,000,000+\n",
      "Quran for Android : 10,000,000+\n",
      "Satellite AR : 1,000,000+\n",
      "Oxford A-Z of English Usage : 1,000,000+\n",
      "Dictionary.com: Find Definitions for English Words : 10,000,000+\n",
      "English Dictionary - Offline : 10,000,000+\n",
      "Bible KJV : 5,000,000+\n",
      "NOOK: Read eBooks & Magazines : 10,000,000+\n",
      "Brilliant Quotes: Life, Love, Family & Motivation : 1,000,000+\n",
      "Stats Royale for Clash Royale : 1,000,000+\n",
      "Dictionary : 10,000,000+\n",
      "wikiHow: how to do anything : 1,000,000+\n",
      "EGW Writings : 1,000,000+\n",
      "My Little Pony AR Guide : 1,000,000+\n",
      "Spanish English Translator : 10,000,000+\n",
      "Dictionary - Merriam-Webster : 10,000,000+\n",
      "JW Library : 10,000,000+\n",
      "Oxford Dictionary of English : Free : 10,000,000+\n",
      "English Hindi Dictionary : 10,000,000+\n",
      "English to Hindi Dictionary : 5,000,000+\n"
     ]
    }
   ],
   "source": [
    "for app in free_google_apps:\n",
    "    if app[1] == 'BOOKS_AND_REFERENCE' and (app[5] == '1,000,000+'\n",
    "                                            or app[5] == '5,000,000+'\n",
    "                                            or app[5] == '10,000,000+'\n",
    "                                            or app[5] == '50,000,000+'):\n",
    "        print(app[0], ':', app[5])"
   ],
   "metadata": {
    "collapsed": false,
    "ExecuteTime": {
     "end_time": "2024-04-19T18:49:32.357642563Z",
     "start_time": "2024-04-19T18:49:32.317574690Z"
    }
   },
   "id": "4f9c5433eabbf25e"
  },
  {
   "cell_type": "markdown",
   "source": [
    "It's possible to see that the most the popular apps are related to Ebook readers, also dictionaries and \n",
    "religious books. Creating and app that focus on readers but have some twist maybe be profitable. Presenting some ideas:\n",
    "\n",
    " * Collaborative Reading Communities: Create a platform where readers can connect with each other to discuss books, share annotations, and even collaborate on writing new chapters or alternative endings to existing stories. This fosters a sense of community and co-creation among readers.\n",
    "\n",
    "* Instead of traditional linear storytelling, introduce interactive elements where readers can make choices that affect the plot and outcome of the story. This could create a more immersive and personalized reading experience.\n",
    "\n",
    "* Use machine learning algorithms to analyze readers' preferences, reading habits, and feedback to provide personalized book recommendations tailored to their interests and tastes. This helps users discover new content they're likely to enjoy.\n",
    "\n",
    "* Integrate the reading experience with real-world activities or events, such as geo-tagged story chapters that unlock when users visit specific locations or themed reading challenges tied to holidays or cultural events."
   ],
   "metadata": {
    "collapsed": false
   },
   "id": "66f5b336ff45a3b8"
  }
 ],
 "metadata": {
  "kernelspec": {
   "display_name": "Python 3",
   "language": "python",
   "name": "python3"
  },
  "language_info": {
   "codemirror_mode": {
    "name": "ipython",
    "version": 2
   },
   "file_extension": ".py",
   "mimetype": "text/x-python",
   "name": "python",
   "nbconvert_exporter": "python",
   "pygments_lexer": "ipython2",
   "version": "2.7.6"
  }
 },
 "nbformat": 4,
 "nbformat_minor": 5
}
